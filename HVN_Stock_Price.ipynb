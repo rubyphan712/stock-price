{
  "nbformat": 4,
  "nbformat_minor": 0,
  "metadata": {
    "colab": {
      "name": "HVN_Stock_Price.ipynb",
      "provenance": [],
      "collapsed_sections": []
    },
    "kernelspec": {
      "name": "python3",
      "display_name": "Python 3"
    },
    "language_info": {
      "name": "python"
    }
  },
  "cells": [
    {
      "cell_type": "markdown",
      "metadata": {
        "id": "_LWo_ZBvYdCl"
      },
      "source": [
        "# 1. Web Scraping for HVN Stock Price\n"
      ]
    },
    {
      "cell_type": "code",
      "metadata": {
        "colab": {
          "base_uri": "https://localhost:8080/"
        },
        "id": "xYKwdh-AcsiW",
        "outputId": "e7e3298e-f2aa-4aaf-9df7-bf52fa6ca94b"
      },
      "source": [
        "!pip install bs4 "
      ],
      "execution_count": null,
      "outputs": [
        {
          "output_type": "stream",
          "text": [
            "Requirement already satisfied: bs4 in /usr/local/lib/python3.7/dist-packages (0.0.1)\n",
            "Requirement already satisfied: beautifulsoup4 in /usr/local/lib/python3.7/dist-packages (from bs4) (4.6.3)\n"
          ],
          "name": "stdout"
        }
      ]
    },
    {
      "cell_type": "code",
      "metadata": {
        "id": "n_BT4GiDctkg"
      },
      "source": [
        "import pandas as pd\n",
        "import urllib.request # we are going to need to generate a Request object - avoid HTTP 404 \n",
        "from bs4 import BeautifulSoup"
      ],
      "execution_count": 2,
      "outputs": []
    },
    {
      "cell_type": "code",
      "metadata": {
        "id": "T2qYxlOBcux1"
      },
      "source": [
        "url = \"https://finance.vietstock.vn/HVN-tong-cong-ty-hang-khong-viet-nam-ctcp.htm\" #url for HVN stock"
      ],
      "execution_count": 3,
      "outputs": []
    },
    {
      "cell_type": "code",
      "metadata": {
        "id": "OYh1V9dNyusQ"
      },
      "source": [
        "# here we define the headers for the request - avoid HTTP 404  \n",
        "headers = {'User-Agent': 'Mozilla/5.0 (Macintosh; Intel Mac OS X 10.13; rv:63.0) Gecko/20100101 Firefox/63.0'}\n"
      ],
      "execution_count": 4,
      "outputs": []
    },
    {
      "cell_type": "code",
      "metadata": {
        "id": "IgFO7QpKyx-5"
      },
      "source": [
        "# this request object will integrate your URL and the headers defined above - avoid HTTP 404 \n",
        "req = urllib.request.Request(url=url, headers=headers)"
      ],
      "execution_count": 5,
      "outputs": []
    },
    {
      "cell_type": "code",
      "metadata": {
        "id": "URGtp7iyy7rx"
      },
      "source": [
        "# calling urlopen this way will automatically handle closing the request - avoid HTTP 404  \n",
        "with urllib.request.urlopen(req) as response:\n",
        "    page_html = response.read()\n",
        "\n",
        "page_html"
      ],
      "execution_count": null,
      "outputs": []
    },
    {
      "cell_type": "code",
      "metadata": {
        "id": "EYSzU9Jyc2ys"
      },
      "source": [
        "page_html = BeautifulSoup(page_html, 'html5lib') #represents the document as a nested data structure\n",
        "page_html #check the html "
      ],
      "execution_count": null,
      "outputs": []
    },
    {
      "cell_type": "markdown",
      "metadata": {
        "id": "Sq_Qpif3gaOF"
      },
      "source": [
        "Inspect the Web and see the price is in ```id=\"stockprice\"```\n",
        "\n"
      ]
    },
    {
      "cell_type": "code",
      "metadata": {
        "colab": {
          "base_uri": "https://localhost:8080/"
        },
        "id": "2XCoskQ_0BXO",
        "outputId": "68e26c31-b621-41b6-d5bd-af065a22dcda"
      },
      "source": [
        "hvn_price = page_html.find_all(id=\"stockprice\")\n",
        "hvn_price"
      ],
      "execution_count": 17,
      "outputs": [
        {
          "output_type": "execute_result",
          "data": {
            "text/plain": [
              "[<h2 class=\"text-bold no-m-t r1\" id=\"stockprice\"><span class=\"txt-red price\">21,150</span><span class=\"fa fa-arrow-down txt-red\"></span></h2>]"
            ]
          },
          "metadata": {},
          "execution_count": 17
        }
      ]
    },
    {
      "cell_type": "code",
      "metadata": {
        "colab": {
          "base_uri": "https://localhost:8080/"
        },
        "id": "nPTmEqqm4ldZ",
        "outputId": "ae287942-a5af-446c-89cf-af0454ef9609"
      },
      "source": [
        "type(hvn_price) #check the type of the price "
      ],
      "execution_count": 9,
      "outputs": [
        {
          "output_type": "execute_result",
          "data": {
            "text/plain": [
              "bs4.element.ResultSet"
            ]
          },
          "metadata": {},
          "execution_count": 9
        }
      ]
    },
    {
      "cell_type": "markdown",
      "metadata": {
        "id": "as5kmM7zQMyl"
      },
      "source": [
        "The result show is \"resultset\" type so the web store it like a table"
      ]
    },
    {
      "cell_type": "code",
      "metadata": {
        "id": "qvZVctdY3haB"
      },
      "source": [
        "# Scrape data from HTML tables into a DataFrame using BeautifulSoup and Pandas\n",
        "hvn_data = pd.DataFrame(columns=[\"Stock Price\"])\n",
        "\n",
        "h_price = int(hvn_price[0].text.replace(\",\",\"\")) #delete \",\" then convert string to int\n",
        "\n",
        "hvn_data = hvn_data.append({\"Stock Price\":h_price}, ignore_index=True)    "
      ],
      "execution_count": 10,
      "outputs": []
    },
    {
      "cell_type": "code",
      "metadata": {
        "colab": {
          "base_uri": "https://localhost:8080/",
          "height": 80
        },
        "id": "Gu9QOIsJ5e9s",
        "outputId": "3e011357-740d-43fd-df19-d1b415c55601"
      },
      "source": [
        "hvn_data.head()"
      ],
      "execution_count": 11,
      "outputs": [
        {
          "output_type": "execute_result",
          "data": {
            "text/html": [
              "<div>\n",
              "<style scoped>\n",
              "    .dataframe tbody tr th:only-of-type {\n",
              "        vertical-align: middle;\n",
              "    }\n",
              "\n",
              "    .dataframe tbody tr th {\n",
              "        vertical-align: top;\n",
              "    }\n",
              "\n",
              "    .dataframe thead th {\n",
              "        text-align: right;\n",
              "    }\n",
              "</style>\n",
              "<table border=\"1\" class=\"dataframe\">\n",
              "  <thead>\n",
              "    <tr style=\"text-align: right;\">\n",
              "      <th></th>\n",
              "      <th>Stock Price</th>\n",
              "    </tr>\n",
              "  </thead>\n",
              "  <tbody>\n",
              "    <tr>\n",
              "      <th>0</th>\n",
              "      <td>21150</td>\n",
              "    </tr>\n",
              "  </tbody>\n",
              "</table>\n",
              "</div>"
            ],
            "text/plain": [
              "  Stock Price\n",
              "0       21150"
            ]
          },
          "metadata": {},
          "execution_count": 11
        }
      ]
    },
    {
      "cell_type": "markdown",
      "metadata": {
        "id": "eej4tRSXYqdM"
      },
      "source": [
        "# 2. Predict Earn or Lose Money"
      ]
    },
    {
      "cell_type": "code",
      "metadata": {
        "id": "yFCTSBhr8P73"
      },
      "source": [
        "#The stock volume and stock price in the time that stockholder bought it\n",
        "hvn_buy = pd.DataFrame(columns=[\"Price\", \"Volume\"])\n",
        "\n",
        "price = [26800, 10000]\n",
        "volume= [1100, 350]\n",
        "\n",
        "hvn_buy['Price'] = price\n",
        "hvn_buy['Volume'] = volume\n"
      ],
      "execution_count": 12,
      "outputs": []
    },
    {
      "cell_type": "code",
      "metadata": {
        "colab": {
          "base_uri": "https://localhost:8080/",
          "height": 111
        },
        "id": "X2MxviYOFLq0",
        "outputId": "d1b17141-c359-433a-c52d-1a3de188a772"
      },
      "source": [
        "hvn_buy"
      ],
      "execution_count": 13,
      "outputs": [
        {
          "output_type": "execute_result",
          "data": {
            "text/html": [
              "<div>\n",
              "<style scoped>\n",
              "    .dataframe tbody tr th:only-of-type {\n",
              "        vertical-align: middle;\n",
              "    }\n",
              "\n",
              "    .dataframe tbody tr th {\n",
              "        vertical-align: top;\n",
              "    }\n",
              "\n",
              "    .dataframe thead th {\n",
              "        text-align: right;\n",
              "    }\n",
              "</style>\n",
              "<table border=\"1\" class=\"dataframe\">\n",
              "  <thead>\n",
              "    <tr style=\"text-align: right;\">\n",
              "      <th></th>\n",
              "      <th>Price</th>\n",
              "      <th>Volume</th>\n",
              "    </tr>\n",
              "  </thead>\n",
              "  <tbody>\n",
              "    <tr>\n",
              "      <th>0</th>\n",
              "      <td>26800</td>\n",
              "      <td>1100</td>\n",
              "    </tr>\n",
              "    <tr>\n",
              "      <th>1</th>\n",
              "      <td>10000</td>\n",
              "      <td>350</td>\n",
              "    </tr>\n",
              "  </tbody>\n",
              "</table>\n",
              "</div>"
            ],
            "text/plain": [
              "   Price  Volume\n",
              "0  26800    1100\n",
              "1  10000     350"
            ]
          },
          "metadata": {},
          "execution_count": 13
        }
      ]
    },
    {
      "cell_type": "code",
      "metadata": {
        "colab": {
          "base_uri": "https://localhost:8080/"
        },
        "id": "d3t5qmDUIMRL",
        "outputId": "355ee402-e692-45cb-ef9a-9e169cfdfe99"
      },
      "source": [
        "hvn_data[\"Stock Price\"]  #check the type of Stock Price\n",
        "hvn_data[\"Stock Price\"] = hvn_data[\"Stock Price\"].astype(int) #convert from object to int in pandas\n",
        "hvn_data[\"Stock Price\"] "
      ],
      "execution_count": 14,
      "outputs": [
        {
          "output_type": "execute_result",
          "data": {
            "text/plain": [
              "0    21150\n",
              "Name: Stock Price, dtype: int64"
            ]
          },
          "metadata": {},
          "execution_count": 14
        }
      ]
    },
    {
      "cell_type": "code",
      "metadata": {
        "colab": {
          "base_uri": "https://localhost:8080/"
        },
        "id": "-cNsKc7-Iajc",
        "outputId": "20ad64c6-8643-4c22-824c-76cd997dcb81"
      },
      "source": [
        "#Stock price min to start earning money\n",
        "total_buy = 0\n",
        "total_volume = 0\n",
        "\n",
        "for i in range(len(hvn_buy)):\n",
        "  total_buy = total_buy + hvn_buy['Price'][i]*hvn_buy['Volume'][i]\n",
        "  total_volume= total_volume + hvn_buy['Volume'][i]\n",
        "\n",
        "hvn_min = total_buy/total_volume\n",
        "hvn_min\n"
      ],
      "execution_count": 15,
      "outputs": [
        {
          "output_type": "execute_result",
          "data": {
            "text/plain": [
              "22744.827586206895"
            ]
          },
          "metadata": {},
          "execution_count": 15
        }
      ]
    },
    {
      "cell_type": "code",
      "metadata": {
        "colab": {
          "base_uri": "https://localhost:8080/"
        },
        "id": "FRp9yaZcIrzz",
        "outputId": "ca6babb0-7e61-49a8-a7dd-999169fd3f57"
      },
      "source": [
        "#Show the result\n",
        "money = hvn_data[\"Stock Price\"][0]*total_volume - total_buy\n",
        "if money > 0:\n",
        "  print(\"Earn Money: \", money)\n",
        "else:\n",
        "  print(\"Lost Money: \", abs(money))"
      ],
      "execution_count": 16,
      "outputs": [
        {
          "output_type": "stream",
          "name": "stdout",
          "text": [
            "Lost Money:  2312500\n"
          ]
        }
      ]
    }
  ]
}