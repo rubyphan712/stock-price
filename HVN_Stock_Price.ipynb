{
  "nbformat": 4,
  "nbformat_minor": 0,
  "metadata": {
    "colab": {
      "name": "HVN-Stock-Price.ipynb",
      "provenance": [],
      "collapsed_sections": []
    },
    "kernelspec": {
      "name": "python3",
      "display_name": "Python 3"
    },
    "language_info": {
      "name": "python"
    }
  },
  "cells": [
    {
      "cell_type": "markdown",
      "metadata": {
        "id": "_LWo_ZBvYdCl"
      },
      "source": [
        "# 1. Web Scraping for HVN Stock Price\n"
      ]
    },
    {
      "cell_type": "code",
      "metadata": {
        "colab": {
          "base_uri": "https://localhost:8080/"
        },
        "id": "xYKwdh-AcsiW",
        "outputId": "ad215fcd-d6ad-45cf-d3eb-3e3e31265bfd"
      },
      "source": [
        "!pip install bs4"
      ],
      "execution_count": null,
      "outputs": [
        {
          "output_type": "stream",
          "name": "stdout",
          "text": [
            "Requirement already satisfied: bs4 in /usr/local/lib/python3.7/dist-packages (0.0.1)\n",
            "Requirement already satisfied: beautifulsoup4 in /usr/local/lib/python3.7/dist-packages (from bs4) (4.6.3)\n"
          ]
        }
      ]
    },
    {
      "cell_type": "code",
      "metadata": {
        "id": "n_BT4GiDctkg"
      },
      "source": [
        "import pandas as pd\n",
        "import urllib.request # we are going to need to generate a Request object - avoid HTTP 404 \n",
        "from bs4 import BeautifulSoup"
      ],
      "execution_count": 1,
      "outputs": []
    },
    {
      "cell_type": "code",
      "metadata": {
        "id": "T2qYxlOBcux1"
      },
      "source": [
        "url = \"https://finance.vietstock.vn/HVN-tong-cong-ty-hang-khong-viet-nam-ctcp.htm\" #url for HVN stock"
      ],
      "execution_count": 2,
      "outputs": []
    },
    {
      "cell_type": "code",
      "metadata": {
        "id": "OYh1V9dNyusQ"
      },
      "source": [
        "# here we define the headers for the request - avoid HTTP 404  \n",
        "headers = {'User-Agent': 'Mozilla/5.0 (Macintosh; Intel Mac OS X 10.13; rv:63.0) Gecko/20100101 Firefox/63.0'}"
      ],
      "execution_count": 3,
      "outputs": []
    },
    {
      "cell_type": "code",
      "metadata": {
        "id": "IgFO7QpKyx-5"
      },
      "source": [
        "# this request object will integrate your URL and the headers defined above - avoid HTTP 404 \n",
        "req = urllib.request.Request(url=url, headers=headers)"
      ],
      "execution_count": 4,
      "outputs": []
    },
    {
      "cell_type": "code",
      "metadata": {
        "id": "URGtp7iyy7rx"
      },
      "source": [
        "# calling urlopen this way will automatically handle closing the request - avoid HTTP 404  \n",
        "with urllib.request.urlopen(req) as response:\n",
        "    page_html = response.read()"
      ],
      "execution_count": 5,
      "outputs": []
    },
    {
      "cell_type": "code",
      "metadata": {
        "id": "EYSzU9Jyc2ys"
      },
      "source": [
        "page_html = BeautifulSoup(page_html, 'html5lib') #get the response in nested html\n",
        "page_html #check the html"
      ],
      "execution_count": null,
      "outputs": []
    },
    {
      "cell_type": "markdown",
      "metadata": {
        "id": "YgXkNqPkSfqe"
      },
      "source": [
        "Ispect the website and see the stock price is in ```id = \"stockprice\"```\n",
        "\n"
      ]
    },
    {
      "cell_type": "code",
      "metadata": {
        "colab": {
          "base_uri": "https://localhost:8080/"
        },
        "id": "2XCoskQ_0BXO",
        "outputId": "4a27fa4b-195a-4771-ff10-266221a79f29"
      },
      "source": [
        "hvn_price = page_html.find_all(id=\"stockprice\")\n",
        "hvn_price"
      ],
      "execution_count": 7,
      "outputs": [
        {
          "output_type": "execute_result",
          "data": {
            "text/plain": [
              "[<h2 class=\"text-bold no-m-t r1\" id=\"stockprice\"><span class=\"txt-red price\">20,950</span><span class=\"fa fa-arrow-down txt-red\"></span></h2>]"
            ]
          },
          "metadata": {},
          "execution_count": 7
        }
      ]
    },
    {
      "cell_type": "code",
      "metadata": {
        "colab": {
          "base_uri": "https://localhost:8080/"
        },
        "id": "nPTmEqqm4ldZ",
        "outputId": "98cd20ed-d209-41cb-fd17-4c53cc825938"
      },
      "source": [
        "type(hvn_price) #check the type of the price"
      ],
      "execution_count": 8,
      "outputs": [
        {
          "output_type": "execute_result",
          "data": {
            "text/plain": [
              "bs4.element.ResultSet"
            ]
          },
          "metadata": {},
          "execution_count": 8
        }
      ]
    },
    {
      "cell_type": "markdown",
      "metadata": {
        "id": "as5kmM7zQMyl"
      },
      "source": [
        "The result show is \"resultset\" type so the web store it like a table"
      ]
    },
    {
      "cell_type": "code",
      "metadata": {
        "id": "qvZVctdY3haB"
      },
      "source": [
        "# Scrape data from HTML tables into a DataFrame using BeautifulSoup and Pandas\n",
        "hvn_data = pd.DataFrame(columns=[\"Stock Price\"])\n",
        " \n",
        "h_price = int(hvn_price[0].text.replace(\",\",\"\")) #delete \",\" then convert string to int\n",
        " \n",
        "hvn_data = hvn_data.append({\"Stock Price\":h_price}, ignore_index=True)"
      ],
      "execution_count": 9,
      "outputs": []
    },
    {
      "cell_type": "code",
      "metadata": {
        "colab": {
          "base_uri": "https://localhost:8080/",
          "height": 80
        },
        "id": "Gu9QOIsJ5e9s",
        "outputId": "da386523-feb7-4188-82d9-d65eef3f8373"
      },
      "source": [
        "hvn_data.head()"
      ],
      "execution_count": 10,
      "outputs": [
        {
          "output_type": "execute_result",
          "data": {
            "text/html": [
              "<div>\n",
              "<style scoped>\n",
              "    .dataframe tbody tr th:only-of-type {\n",
              "        vertical-align: middle;\n",
              "    }\n",
              "\n",
              "    .dataframe tbody tr th {\n",
              "        vertical-align: top;\n",
              "    }\n",
              "\n",
              "    .dataframe thead th {\n",
              "        text-align: right;\n",
              "    }\n",
              "</style>\n",
              "<table border=\"1\" class=\"dataframe\">\n",
              "  <thead>\n",
              "    <tr style=\"text-align: right;\">\n",
              "      <th></th>\n",
              "      <th>Stock Price</th>\n",
              "    </tr>\n",
              "  </thead>\n",
              "  <tbody>\n",
              "    <tr>\n",
              "      <th>0</th>\n",
              "      <td>20950</td>\n",
              "    </tr>\n",
              "  </tbody>\n",
              "</table>\n",
              "</div>"
            ],
            "text/plain": [
              "  Stock Price\n",
              "0       20950"
            ]
          },
          "metadata": {},
          "execution_count": 10
        }
      ]
    },
    {
      "cell_type": "markdown",
      "metadata": {
        "id": "eej4tRSXYqdM"
      },
      "source": [
        "# 2. Get Input for Stock price and volume "
      ]
    },
    {
      "cell_type": "code",
      "metadata": {
        "id": "yFCTSBhr8P73"
      },
      "source": [
        "#The stock volume and stock price in the time that stockholder bought it\n",
        "hvn_buy = pd.DataFrame(columns=[\"Price\", \"Volume\"])"
      ],
      "execution_count": 11,
      "outputs": []
    },
    {
      "cell_type": "code",
      "metadata": {
        "colab": {
          "base_uri": "https://localhost:8080/"
        },
        "id": "g75ICIEMpoHm",
        "outputId": "3751a182-972b-480e-b27d-8d062c11971f"
      },
      "source": [
        "#Get input from user/stockholder\n",
        "count_buy = int(input(\"Please enter how many time you bought stock price: \"))\n",
        "price = []\n",
        "volume = []\n",
        "\n",
        "for count in range(0,count_buy):\n",
        "  new_buy = int(input(\"Please enter the stock price that you bought: \"))\n",
        "  new_volume = int(input(\"Please enter the stock volume that you bought: \"))\n",
        "\n",
        "  price.append(new_buy)\n",
        "  volume.append(new_volume)"
      ],
      "execution_count": 12,
      "outputs": [
        {
          "name": "stdout",
          "output_type": "stream",
          "text": [
            "Please enter how many time you bought stock price: 2\n",
            "Please enter the stock price that you bought: 26800\n",
            "Please enter the stock volume that you bought: 1100\n",
            "Please enter the stock price that you bought: 10000\n",
            "Please enter the stock volume that you bought: 310\n"
          ]
        }
      ]
    },
    {
      "cell_type": "code",
      "metadata": {
        "id": "-PeMK9AnaWOV"
      },
      "source": [
        "# if not change recently, use this code\n",
        "# price = [26800, 10000]\n",
        "# volume= [1100, 310]"
      ],
      "execution_count": null,
      "outputs": []
    },
    {
      "cell_type": "code",
      "metadata": {
        "colab": {
          "base_uri": "https://localhost:8080/",
          "height": 111
        },
        "id": "X2MxviYOFLq0",
        "outputId": "3137f165-1713-433d-a9a6-23972e40c66b"
      },
      "source": [
        "hvn_buy['Price'] = price\n",
        "hvn_buy['Volume'] = volume\n",
        "hvn_buy"
      ],
      "execution_count": 13,
      "outputs": [
        {
          "output_type": "execute_result",
          "data": {
            "text/html": [
              "<div>\n",
              "<style scoped>\n",
              "    .dataframe tbody tr th:only-of-type {\n",
              "        vertical-align: middle;\n",
              "    }\n",
              "\n",
              "    .dataframe tbody tr th {\n",
              "        vertical-align: top;\n",
              "    }\n",
              "\n",
              "    .dataframe thead th {\n",
              "        text-align: right;\n",
              "    }\n",
              "</style>\n",
              "<table border=\"1\" class=\"dataframe\">\n",
              "  <thead>\n",
              "    <tr style=\"text-align: right;\">\n",
              "      <th></th>\n",
              "      <th>Price</th>\n",
              "      <th>Volume</th>\n",
              "    </tr>\n",
              "  </thead>\n",
              "  <tbody>\n",
              "    <tr>\n",
              "      <th>0</th>\n",
              "      <td>26800</td>\n",
              "      <td>1100</td>\n",
              "    </tr>\n",
              "    <tr>\n",
              "      <th>1</th>\n",
              "      <td>10000</td>\n",
              "      <td>310</td>\n",
              "    </tr>\n",
              "  </tbody>\n",
              "</table>\n",
              "</div>"
            ],
            "text/plain": [
              "   Price  Volume\n",
              "0  26800    1100\n",
              "1  10000     310"
            ]
          },
          "metadata": {},
          "execution_count": 13
        }
      ]
    },
    {
      "cell_type": "markdown",
      "metadata": {
        "id": "_sgT_qX_TUYs"
      },
      "source": [
        "# 3. Predict Earn or Lose Money"
      ]
    },
    {
      "cell_type": "code",
      "metadata": {
        "colab": {
          "base_uri": "https://localhost:8080/"
        },
        "id": "d3t5qmDUIMRL",
        "outputId": "0fdc77b4-d63e-4ca1-d76d-bc718bcd1473"
      },
      "source": [
        "hvn_data[\"Stock Price\"]  #check the type of Stock Price\n",
        "hvn_data[\"Stock Price\"] = hvn_data[\"Stock Price\"].astype(int) #convert from object to int in pandas\n",
        "hvn_data[\"Stock Price\"]"
      ],
      "execution_count": 14,
      "outputs": [
        {
          "output_type": "execute_result",
          "data": {
            "text/plain": [
              "0    20950\n",
              "Name: Stock Price, dtype: int64"
            ]
          },
          "metadata": {},
          "execution_count": 14
        }
      ]
    },
    {
      "cell_type": "code",
      "metadata": {
        "id": "-cNsKc7-Iajc",
        "colab": {
          "base_uri": "https://localhost:8080/"
        },
        "outputId": "0bb66685-23a5-48bb-a7cb-2eaca2098605"
      },
      "source": [
        "#Stock price min to start earning money\n",
        "total_buy = (hvn_buy['Price']*hvn_buy['Volume']).sum()\n",
        "total_volume= hvn_buy['Volume'].sum()\n",
        " \n",
        "hvn_min = total_buy/total_volume\n",
        "hvn_min"
      ],
      "execution_count": 15,
      "outputs": [
        {
          "output_type": "execute_result",
          "data": {
            "text/plain": [
              "23106.382978723403"
            ]
          },
          "metadata": {},
          "execution_count": 15
        }
      ]
    },
    {
      "cell_type": "code",
      "metadata": {
        "colab": {
          "base_uri": "https://localhost:8080/"
        },
        "id": "FRp9yaZcIrzz",
        "outputId": "cf8cef6b-7c27-4043-dab9-4400546927b9"
      },
      "source": [
        "#Show the result\n",
        "money = hvn_data[\"Stock Price\"][0]*total_volume - total_buy\n",
        "if money > 0:\n",
        "  print(\"Earn Money: \", money)\n",
        "else:\n",
        "  print(\"Lost Money: \", abs(money))"
      ],
      "execution_count": 18,
      "outputs": [
        {
          "output_type": "stream",
          "name": "stdout",
          "text": [
            "Lost Money:  3040500\n"
          ]
        }
      ]
    },
    {
      "cell_type": "code",
      "metadata": {
        "id": "c-dChaCY2W_z"
      },
      "source": [
        ""
      ],
      "execution_count": null,
      "outputs": []
    }
  ]
}