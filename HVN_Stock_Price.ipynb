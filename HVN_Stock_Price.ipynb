{
  "nbformat": 4,
  "nbformat_minor": 0,
  "metadata": {
    "colab": {
      "name": "HVN-Stock-Price.ipynb",
      "provenance": [],
      "collapsed_sections": []
    },
    "kernelspec": {
      "name": "python3",
      "display_name": "Python 3"
    },
    "language_info": {
      "name": "python"
    }
  },
  "cells": [
    {
      "cell_type": "markdown",
      "metadata": {
        "id": "_LWo_ZBvYdCl"
      },
      "source": [
        "# 1. Web Scraping for HVN Stock Price\n"
      ]
    },
    {
      "cell_type": "code",
      "metadata": {
        "colab": {
          "base_uri": "https://localhost:8080/"
        },
        "id": "xYKwdh-AcsiW",
        "outputId": "ad215fcd-d6ad-45cf-d3eb-3e3e31265bfd"
      },
      "source": [
        "!pip install bs4"
      ],
      "execution_count": 1,
      "outputs": [
        {
          "output_type": "stream",
          "name": "stdout",
          "text": [
            "Requirement already satisfied: bs4 in /usr/local/lib/python3.7/dist-packages (0.0.1)\n",
            "Requirement already satisfied: beautifulsoup4 in /usr/local/lib/python3.7/dist-packages (from bs4) (4.6.3)\n"
          ]
        }
      ]
    },
    {
      "cell_type": "code",
      "metadata": {
        "id": "n_BT4GiDctkg"
      },
      "source": [
        "import pandas as pd\n",
        "import urllib.request # we are going to need to generate a Request object - avoid HTTP 404 \n",
        "from bs4 import BeautifulSoup"
      ],
      "execution_count": 2,
      "outputs": []
    },
    {
      "cell_type": "code",
      "metadata": {
        "id": "T2qYxlOBcux1"
      },
      "source": [
        "url = \"https://finance.vietstock.vn/HVN-tong-cong-ty-hang-khong-viet-nam-ctcp.htm\" #url for HVN stock"
      ],
      "execution_count": 3,
      "outputs": []
    },
    {
      "cell_type": "code",
      "metadata": {
        "id": "OYh1V9dNyusQ"
      },
      "source": [
        "# here we define the headers for the request - avoid HTTP 404  \n",
        "headers = {'User-Agent': 'Mozilla/5.0 (Macintosh; Intel Mac OS X 10.13; rv:63.0) Gecko/20100101 Firefox/63.0'}"
      ],
      "execution_count": 4,
      "outputs": []
    },
    {
      "cell_type": "code",
      "metadata": {
        "id": "IgFO7QpKyx-5"
      },
      "source": [
        "# this request object will integrate your URL and the headers defined above - avoid HTTP 404 \n",
        "req = urllib.request.Request(url=url, headers=headers)"
      ],
      "execution_count": 5,
      "outputs": []
    },
    {
      "cell_type": "code",
      "metadata": {
        "id": "URGtp7iyy7rx"
      },
      "source": [
        "# calling urlopen this way will automatically handle closing the request - avoid HTTP 404  \n",
        "with urllib.request.urlopen(req) as response:\n",
        "    page_html = response.read()"
      ],
      "execution_count": 6,
      "outputs": []
    },
    {
      "cell_type": "code",
      "metadata": {
        "id": "EYSzU9Jyc2ys"
      },
      "source": [
        "page_html = BeautifulSoup(page_html, 'html5lib') #get the response in nested html\n",
        "page_html #check the html"
      ],
      "execution_count": null,
      "outputs": []
    },
    {
      "cell_type": "markdown",
      "metadata": {
        "id": "YgXkNqPkSfqe"
      },
      "source": [
        "Ispect the website and see the stock price is in ```id = \"stockprice\"```\n",
        "\n"
      ]
    },
    {
      "cell_type": "code",
      "metadata": {
        "colab": {
          "base_uri": "https://localhost:8080/"
        },
        "id": "2XCoskQ_0BXO",
        "outputId": "92ec50d2-a3b3-4284-c3c7-fb7dc4d4c990"
      },
      "source": [
        "hvn_price = page_html.find_all(id=\"stockprice\")\n",
        "hvn_price"
      ],
      "execution_count": 9,
      "outputs": [
        {
          "output_type": "execute_result",
          "data": {
            "text/plain": [
              "[<h2 class=\"text-bold no-m-t r1\" id=\"stockprice\"><span class=\"txt-red price\">20,950</span><span class=\"fa fa-arrow-down txt-red\"></span></h2>]"
            ]
          },
          "metadata": {},
          "execution_count": 9
        }
      ]
    },
    {
      "cell_type": "code",
      "metadata": {
        "colab": {
          "base_uri": "https://localhost:8080/"
        },
        "id": "nPTmEqqm4ldZ",
        "outputId": "4a7f6dcf-69b3-4123-c93e-f89ae9bcefa9"
      },
      "source": [
        "type(hvn_price) #check the type of the price"
      ],
      "execution_count": 10,
      "outputs": [
        {
          "output_type": "execute_result",
          "data": {
            "text/plain": [
              "bs4.element.ResultSet"
            ]
          },
          "metadata": {},
          "execution_count": 10
        }
      ]
    },
    {
      "cell_type": "markdown",
      "metadata": {
        "id": "as5kmM7zQMyl"
      },
      "source": [
        "The result show is \"resultset\" type so the web store it like a table"
      ]
    },
    {
      "cell_type": "code",
      "metadata": {
        "id": "qvZVctdY3haB"
      },
      "source": [
        "# Scrape data from HTML tables into a DataFrame using BeautifulSoup and Pandas\n",
        "hvn_data = pd.DataFrame(columns=[\"Stock Price\"])\n",
        " \n",
        "h_price = int(hvn_price[0].text.replace(\",\",\"\")) #delete \",\" then convert string to int\n",
        " \n",
        "hvn_data = hvn_data.append({\"Stock Price\":h_price}, ignore_index=True)"
      ],
      "execution_count": 11,
      "outputs": []
    },
    {
      "cell_type": "code",
      "metadata": {
        "colab": {
          "base_uri": "https://localhost:8080/",
          "height": 80
        },
        "id": "Gu9QOIsJ5e9s",
        "outputId": "080e9c57-ac6a-47ad-ccbf-04780ed04cea"
      },
      "source": [
        "hvn_data.head()"
      ],
      "execution_count": null,
      "outputs": [
        {
          "output_type": "execute_result",
          "data": {
            "text/html": [
              "<div>\n",
              "<style scoped>\n",
              "    .dataframe tbody tr th:only-of-type {\n",
              "        vertical-align: middle;\n",
              "    }\n",
              "\n",
              "    .dataframe tbody tr th {\n",
              "        vertical-align: top;\n",
              "    }\n",
              "\n",
              "    .dataframe thead th {\n",
              "        text-align: right;\n",
              "    }\n",
              "</style>\n",
              "<table border=\"1\" class=\"dataframe\">\n",
              "  <thead>\n",
              "    <tr style=\"text-align: right;\">\n",
              "      <th></th>\n",
              "      <th>Stock Price</th>\n",
              "    </tr>\n",
              "  </thead>\n",
              "  <tbody>\n",
              "    <tr>\n",
              "      <th>0</th>\n",
              "      <td>20950</td>\n",
              "    </tr>\n",
              "  </tbody>\n",
              "</table>\n",
              "</div>"
            ],
            "text/plain": [
              "  Stock Price\n",
              "0       20950"
            ]
          },
          "metadata": {},
          "execution_count": 11
        }
      ]
    },
    {
      "cell_type": "markdown",
      "metadata": {
        "id": "eej4tRSXYqdM"
      },
      "source": [
        "# 2. Get Input for Stock price and volume "
      ]
    },
    {
      "cell_type": "code",
      "metadata": {
        "id": "yFCTSBhr8P73"
      },
      "source": [
        "#The stock volume and stock price in the time that stockholder bought it\n",
        "hvn_buy = pd.DataFrame(columns=[\"Price\", \"Volume\"])"
      ],
      "execution_count": null,
      "outputs": []
    },
    {
      "cell_type": "code",
      "metadata": {
        "colab": {
          "base_uri": "https://localhost:8080/"
        },
        "id": "g75ICIEMpoHm",
        "outputId": "67610dfe-009c-4a56-8aa2-5ec4d63d034b"
      },
      "source": [
        "#Get input from user/stockholder\n",
        "count_buy = int(input(\"Please enter how many time you bought stock price: \"))\n",
        "price = []\n",
        "volume = []\n",
        "\n",
        "for count in range(0,count_buy):\n",
        "  new_buy = int(input(\"Please enter the stock price that you bought: \"))\n",
        "  new_volume = int(input(\"Please enter the stock volume that you bought: \"))\n",
        "\n",
        "  price.append(new_buy)\n",
        "  volume.append(new_volume)"
      ],
      "execution_count": null,
      "outputs": [
        {
          "name": "stdout",
          "output_type": "stream",
          "text": [
            "Please enter how many time you bought stock price: 2\n",
            "Please enter the stock price that you bought: 26800\n",
            "Please enter the stock volume that you bought: 1100\n",
            "Please enter the stock price that you bought: 10000\n",
            "Please enter the stock volume that you bought: 310\n"
          ]
        }
      ]
    },
    {
      "cell_type": "code",
      "metadata": {
        "id": "-PeMK9AnaWOV"
      },
      "source": [
        "# if not change recently, use this code\n",
        "# price = [26800, 10000]\n",
        "# volume= [1100, 310]"
      ],
      "execution_count": null,
      "outputs": []
    },
    {
      "cell_type": "code",
      "metadata": {
        "colab": {
          "base_uri": "https://localhost:8080/",
          "height": 111
        },
        "id": "X2MxviYOFLq0",
        "outputId": "ec00c53a-14c1-4719-9b97-6440cec16115"
      },
      "source": [
        "hvn_buy['Price'] = price\n",
        "hvn_buy['Volume'] = volume\n",
        "hvn_buy"
      ],
      "execution_count": null,
      "outputs": [
        {
          "output_type": "execute_result",
          "data": {
            "text/html": [
              "<div>\n",
              "<style scoped>\n",
              "    .dataframe tbody tr th:only-of-type {\n",
              "        vertical-align: middle;\n",
              "    }\n",
              "\n",
              "    .dataframe tbody tr th {\n",
              "        vertical-align: top;\n",
              "    }\n",
              "\n",
              "    .dataframe thead th {\n",
              "        text-align: right;\n",
              "    }\n",
              "</style>\n",
              "<table border=\"1\" class=\"dataframe\">\n",
              "  <thead>\n",
              "    <tr style=\"text-align: right;\">\n",
              "      <th></th>\n",
              "      <th>Price</th>\n",
              "      <th>Volume</th>\n",
              "    </tr>\n",
              "  </thead>\n",
              "  <tbody>\n",
              "    <tr>\n",
              "      <th>0</th>\n",
              "      <td>26800</td>\n",
              "      <td>1100</td>\n",
              "    </tr>\n",
              "    <tr>\n",
              "      <th>1</th>\n",
              "      <td>10000</td>\n",
              "      <td>310</td>\n",
              "    </tr>\n",
              "  </tbody>\n",
              "</table>\n",
              "</div>"
            ],
            "text/plain": [
              "   Price  Volume\n",
              "0  26800    1100\n",
              "1  10000     310"
            ]
          },
          "metadata": {},
          "execution_count": 14
        }
      ]
    },
    {
      "cell_type": "markdown",
      "metadata": {
        "id": "_sgT_qX_TUYs"
      },
      "source": [
        "# 3. Predict Earn or Lose Money"
      ]
    },
    {
      "cell_type": "code",
      "metadata": {
        "colab": {
          "base_uri": "https://localhost:8080/"
        },
        "id": "d3t5qmDUIMRL",
        "outputId": "8d9edab0-88db-4f68-f588-8578eae53142"
      },
      "source": [
        "hvn_data[\"Stock Price\"]  #check the type of Stock Price\n",
        "hvn_data[\"Stock Price\"] = hvn_data[\"Stock Price\"].astype(int) #convert from object to int in pandas\n",
        "hvn_data[\"Stock Price\"]"
      ],
      "execution_count": 12,
      "outputs": [
        {
          "output_type": "execute_result",
          "data": {
            "text/plain": [
              "0    20950\n",
              "Name: Stock Price, dtype: object"
            ]
          },
          "metadata": {},
          "execution_count": 12
        }
      ]
    },
    {
      "cell_type": "code",
      "metadata": {
        "id": "-cNsKc7-Iajc",
        "colab": {
          "base_uri": "https://localhost:8080/"
        },
        "outputId": "9bfa1931-6baf-4e9e-e600-4d190592f372"
      },
      "source": [
        "#Stock price min to start earning money\n",
        "total_buy = 0\n",
        "total_volume = 0\n",
        " \n",
        "for i in range(len(hvn_buy)):\n",
        "  total_buy = total_buy + hvn_buy['Price'][i]*hvn_buy['Volume'][i]\n",
        "  total_volume= total_volume + hvn_buy['Volume'][i]\n",
        " \n",
        "hvn_min = total_buy/total_volume\n",
        "hvn_min"
      ],
      "execution_count": null,
      "outputs": [
        {
          "output_type": "execute_result",
          "data": {
            "text/plain": [
              "23106.382978723403"
            ]
          },
          "metadata": {},
          "execution_count": 16
        }
      ]
    },
    {
      "cell_type": "code",
      "metadata": {
        "colab": {
          "base_uri": "https://localhost:8080/"
        },
        "id": "FRp9yaZcIrzz",
        "outputId": "13677b80-d3ae-4324-f81b-0326b8d99843"
      },
      "source": [
        "#Show the result\n",
        "money = hvn_data[\"Stock Price\"][0]*total_volume - total_buy\n",
        "if money > 0:\n",
        "  print(\"Earn Money: \", money)\n",
        "else:\n",
        "  print(\"Lost Money: \", abs(money))"
      ],
      "execution_count": null,
      "outputs": [
        {
          "output_type": "stream",
          "name": "stdout",
          "text": [
            "Lost Money:  3040500\n"
          ]
        }
      ]
    }
  ]
}